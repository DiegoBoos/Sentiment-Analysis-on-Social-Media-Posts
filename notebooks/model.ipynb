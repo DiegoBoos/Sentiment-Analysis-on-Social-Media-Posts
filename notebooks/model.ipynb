{
 "cells": [
  {
   "cell_type": "code",
   "execution_count": 1,
   "metadata": {},
   "outputs": [
    {
     "name": "stdout",
     "output_type": "stream",
     "text": [
      "Collecting imblearn\n",
      "  Downloading imblearn-0.0-py2.py3-none-any.whl (1.9 kB)\n",
      "Collecting imbalanced-learn (from imblearn)\n",
      "  Using cached imbalanced_learn-0.11.0-py3-none-any.whl.metadata (8.3 kB)\n",
      "Requirement already satisfied: numpy>=1.17.3 in /Users/diegobolanos/miniconda/lib/python3.11/site-packages (from imbalanced-learn->imblearn) (1.26.2)\n",
      "Collecting scipy>=1.5.0 (from imbalanced-learn->imblearn)\n",
      "  Using cached scipy-1.11.4-cp311-cp311-macosx_12_0_arm64.whl.metadata (165 kB)\n",
      "Collecting scikit-learn>=1.0.2 (from imbalanced-learn->imblearn)\n",
      "  Using cached scikit_learn-1.3.2-cp311-cp311-macosx_12_0_arm64.whl.metadata (11 kB)\n",
      "Collecting joblib>=1.1.1 (from imbalanced-learn->imblearn)\n",
      "  Using cached joblib-1.3.2-py3-none-any.whl.metadata (5.4 kB)\n",
      "Collecting threadpoolctl>=2.0.0 (from imbalanced-learn->imblearn)\n",
      "  Using cached threadpoolctl-3.2.0-py3-none-any.whl.metadata (10.0 kB)\n",
      "Using cached imbalanced_learn-0.11.0-py3-none-any.whl (235 kB)\n",
      "Using cached joblib-1.3.2-py3-none-any.whl (302 kB)\n",
      "Using cached scikit_learn-1.3.2-cp311-cp311-macosx_12_0_arm64.whl (9.4 MB)\n",
      "Using cached scipy-1.11.4-cp311-cp311-macosx_12_0_arm64.whl (29.7 MB)\n",
      "Using cached threadpoolctl-3.2.0-py3-none-any.whl (15 kB)\n",
      "Installing collected packages: threadpoolctl, scipy, joblib, scikit-learn, imbalanced-learn, imblearn\n",
      "Successfully installed imbalanced-learn-0.11.0 imblearn-0.0 joblib-1.3.2 scikit-learn-1.3.2 scipy-1.11.4 threadpoolctl-3.2.0\n",
      "Collecting seaborn\n",
      "  Using cached seaborn-0.13.0-py3-none-any.whl.metadata (5.3 kB)\n",
      "Requirement already satisfied: numpy!=1.24.0,>=1.20 in /Users/diegobolanos/miniconda/lib/python3.11/site-packages (from seaborn) (1.26.2)\n",
      "Requirement already satisfied: pandas>=1.2 in /Users/diegobolanos/miniconda/lib/python3.11/site-packages (from seaborn) (2.1.1)\n",
      "Collecting matplotlib!=3.6.1,>=3.3 (from seaborn)\n",
      "  Using cached matplotlib-3.8.2-cp311-cp311-macosx_11_0_arm64.whl.metadata (5.8 kB)\n",
      "Collecting contourpy>=1.0.1 (from matplotlib!=3.6.1,>=3.3->seaborn)\n",
      "  Using cached contourpy-1.2.0-cp311-cp311-macosx_11_0_arm64.whl.metadata (5.8 kB)\n",
      "Collecting cycler>=0.10 (from matplotlib!=3.6.1,>=3.3->seaborn)\n",
      "  Using cached cycler-0.12.1-py3-none-any.whl.metadata (3.8 kB)\n",
      "Collecting fonttools>=4.22.0 (from matplotlib!=3.6.1,>=3.3->seaborn)\n",
      "  Downloading fonttools-4.46.0-cp311-cp311-macosx_10_9_universal2.whl.metadata (156 kB)\n",
      "\u001b[2K     \u001b[90m━━━━━━━━━━━━━━━━━━━━━━━━━━━━━━━━━━━━━━━\u001b[0m \u001b[32m156.2/156.2 kB\u001b[0m \u001b[31m2.5 MB/s\u001b[0m eta \u001b[36m0:00:00\u001b[0ma \u001b[36m0:00:01\u001b[0m\n",
      "\u001b[?25hCollecting kiwisolver>=1.3.1 (from matplotlib!=3.6.1,>=3.3->seaborn)\n",
      "  Using cached kiwisolver-1.4.5-cp311-cp311-macosx_11_0_arm64.whl.metadata (6.4 kB)\n",
      "Requirement already satisfied: packaging>=20.0 in /Users/diegobolanos/miniconda/lib/python3.11/site-packages (from matplotlib!=3.6.1,>=3.3->seaborn) (23.1)\n",
      "Collecting pillow>=8 (from matplotlib!=3.6.1,>=3.3->seaborn)\n",
      "  Using cached Pillow-10.1.0-cp311-cp311-macosx_11_0_arm64.whl.metadata (9.5 kB)\n",
      "Collecting pyparsing>=2.3.1 (from matplotlib!=3.6.1,>=3.3->seaborn)\n",
      "  Using cached pyparsing-3.1.1-py3-none-any.whl.metadata (5.1 kB)\n",
      "Requirement already satisfied: python-dateutil>=2.7 in /Users/diegobolanos/miniconda/lib/python3.11/site-packages (from matplotlib!=3.6.1,>=3.3->seaborn) (2.8.2)\n",
      "Requirement already satisfied: pytz>=2020.1 in /Users/diegobolanos/miniconda/lib/python3.11/site-packages (from pandas>=1.2->seaborn) (2023.3.post1)\n",
      "Requirement already satisfied: tzdata>=2022.1 in /Users/diegobolanos/miniconda/lib/python3.11/site-packages (from pandas>=1.2->seaborn) (2023.3)\n",
      "Requirement already satisfied: six>=1.5 in /Users/diegobolanos/miniconda/lib/python3.11/site-packages (from python-dateutil>=2.7->matplotlib!=3.6.1,>=3.3->seaborn) (1.16.0)\n",
      "Using cached seaborn-0.13.0-py3-none-any.whl (294 kB)\n",
      "Using cached matplotlib-3.8.2-cp311-cp311-macosx_11_0_arm64.whl (7.5 MB)\n",
      "Using cached contourpy-1.2.0-cp311-cp311-macosx_11_0_arm64.whl (243 kB)\n",
      "Using cached cycler-0.12.1-py3-none-any.whl (8.3 kB)\n",
      "Downloading fonttools-4.46.0-cp311-cp311-macosx_10_9_universal2.whl (2.8 MB)\n",
      "\u001b[2K   \u001b[90m━━━━━━━━━━━━━━━━━━━━━━━━━━━━━━━━━━━━━━━━\u001b[0m \u001b[32m2.8/2.8 MB\u001b[0m \u001b[31m10.7 MB/s\u001b[0m eta \u001b[36m0:00:00\u001b[0m00:01\u001b[0m00:01\u001b[0m\n",
      "\u001b[?25hUsing cached kiwisolver-1.4.5-cp311-cp311-macosx_11_0_arm64.whl (66 kB)\n",
      "Using cached Pillow-10.1.0-cp311-cp311-macosx_11_0_arm64.whl (3.3 MB)\n",
      "Using cached pyparsing-3.1.1-py3-none-any.whl (103 kB)\n",
      "Installing collected packages: pyparsing, pillow, kiwisolver, fonttools, cycler, contourpy, matplotlib, seaborn\n",
      "Successfully installed contourpy-1.2.0 cycler-0.12.1 fonttools-4.46.0 kiwisolver-1.4.5 matplotlib-3.8.2 pillow-10.1.0 pyparsing-3.1.1 seaborn-0.13.0\n"
     ]
    }
   ],
   "source": [
    "!pip install imblearn\n",
    "!pip install seaborn"
   ]
  },
  {
   "cell_type": "code",
   "execution_count": 4,
   "metadata": {},
   "outputs": [
    {
     "name": "stdout",
     "output_type": "stream",
     "text": [
      "Epoch 1/20\n",
      "172/172 [==============================] - 2s 4ms/step - loss: 0.8895 - accuracy: 0.5930 - val_loss: 0.9181 - val_accuracy: 0.6060\n",
      "Epoch 2/20\n",
      "172/172 [==============================] - 0s 2ms/step - loss: 0.6989 - accuracy: 0.7081 - val_loss: 0.5799 - val_accuracy: 0.7824\n",
      "Epoch 3/20\n",
      "172/172 [==============================] - 0s 2ms/step - loss: 0.5607 - accuracy: 0.7670 - val_loss: 0.3001 - val_accuracy: 0.9040\n",
      "Epoch 4/20\n",
      "172/172 [==============================] - 0s 2ms/step - loss: 0.4781 - accuracy: 0.7952 - val_loss: 0.4517 - val_accuracy: 0.8156\n",
      "Epoch 5/20\n",
      "172/172 [==============================] - 0s 2ms/step - loss: 0.4092 - accuracy: 0.8320 - val_loss: 0.2687 - val_accuracy: 0.8950\n",
      "Epoch 6/20\n",
      "172/172 [==============================] - 0s 2ms/step - loss: 0.3820 - accuracy: 0.8371 - val_loss: 0.1551 - val_accuracy: 0.9418\n",
      "Epoch 7/20\n",
      "172/172 [==============================] - 0s 2ms/step - loss: 0.3368 - accuracy: 0.8614 - val_loss: 0.1421 - val_accuracy: 0.9456\n",
      "Epoch 8/20\n",
      "172/172 [==============================] - 0s 3ms/step - loss: 0.3296 - accuracy: 0.8581 - val_loss: 0.1625 - val_accuracy: 0.9414\n",
      "Epoch 9/20\n",
      "172/172 [==============================] - 0s 2ms/step - loss: 0.3151 - accuracy: 0.8625 - val_loss: 0.2613 - val_accuracy: 0.8887\n",
      "Epoch 10/20\n",
      "172/172 [==============================] - 0s 2ms/step - loss: 0.2812 - accuracy: 0.8776 - val_loss: 0.1327 - val_accuracy: 0.9460\n",
      "Epoch 11/20\n",
      "172/172 [==============================] - 0s 2ms/step - loss: 0.2641 - accuracy: 0.8887 - val_loss: 0.1967 - val_accuracy: 0.8963\n",
      "Epoch 12/20\n",
      "172/172 [==============================] - 0s 2ms/step - loss: 0.2360 - accuracy: 0.9064 - val_loss: 0.1234 - val_accuracy: 0.9452\n",
      "Epoch 13/20\n",
      "172/172 [==============================] - 0s 2ms/step - loss: 0.2078 - accuracy: 0.9180 - val_loss: 0.0477 - val_accuracy: 0.9843\n",
      "Epoch 14/20\n",
      "172/172 [==============================] - 0s 2ms/step - loss: 0.1863 - accuracy: 0.9269 - val_loss: 0.0381 - val_accuracy: 0.9890\n",
      "Epoch 15/20\n",
      "172/172 [==============================] - 0s 3ms/step - loss: 0.1625 - accuracy: 0.9375 - val_loss: 0.1013 - val_accuracy: 0.9652\n",
      "Epoch 16/20\n",
      "172/172 [==============================] - 0s 3ms/step - loss: 0.1461 - accuracy: 0.9457 - val_loss: 0.0560 - val_accuracy: 0.9796\n",
      "Epoch 17/20\n",
      "172/172 [==============================] - 0s 2ms/step - loss: 0.1358 - accuracy: 0.9484 - val_loss: 0.1327 - val_accuracy: 0.9490\n",
      "Epoch 18/20\n",
      "172/172 [==============================] - 0s 3ms/step - loss: 0.1254 - accuracy: 0.9517 - val_loss: 0.0565 - val_accuracy: 0.9796\n",
      "Epoch 19/20\n",
      "172/172 [==============================] - 0s 2ms/step - loss: 0.1020 - accuracy: 0.9614 - val_loss: 0.0254 - val_accuracy: 0.9953\n",
      "Epoch 20/20\n",
      "172/172 [==============================] - 0s 2ms/step - loss: 0.0951 - accuracy: 0.9647 - val_loss: 0.0614 - val_accuracy: 0.9754\n",
      "36/36 [==============================] - 0s 921us/step - loss: 1.0706 - accuracy: 0.7743\n",
      "Test Loss: 1.0706477165222168, Test Accuracy: 0.7743362784385681\n"
     ]
    }
   ],
   "source": [
    "import pandas as pd\n",
    "from sklearn.model_selection import train_test_split\n",
    "from imblearn.over_sampling import SMOTE\n",
    "import numpy as np\n",
    "import tensorflow as tf\n",
    "from keras.models import Sequential\n",
    "from keras.layers import Dense, LSTM, Dropout\n",
    "\n",
    "# Load dataset\n",
    "input_file_path = '../data/feature_extraction/BERT_Features.csv'\n",
    "df = pd.read_csv(input_file_path)\n",
    "\n",
    "# Select your features and target\n",
    "X = df.iloc[:, 7:].values  # Assuming BERT features start from the 8th column\n",
    "y = df['Sentiment']  # Assuming 'Sentiment' is your label column\n",
    "\n",
    "# Encoding categorical labels\n",
    "y_encoded = pd.get_dummies(y).values\n",
    "\n",
    "# Split the dataset into train and test sets\n",
    "X_train, X_test, y_train, y_test = train_test_split(X, y_encoded, test_size=0.2, random_state=42)\n",
    "\n",
    "# Apply SMOTE to balance the dataset\n",
    "smote = SMOTE(random_state=42)\n",
    "X_train_smote, y_train_smote = smote.fit_resample(X_train, y_train)\n",
    "\n",
    "# Reshape X to have 3 dimensions [samples, timesteps, features]\n",
    "# Assuming each sample is a single timestep\n",
    "# Reshape X to have 3 dimensions [samples, timesteps, features]\n",
    "# Assuming each sample is a single timestep\n",
    "X_train_smote = np.expand_dims(X_train_smote, axis=1)\n",
    "X_test = np.expand_dims(X_test, axis=1)\n",
    "\n",
    "# Define your LSTM model\n",
    "model = Sequential()\n",
    "model.add(LSTM(128, input_shape=(X_train_smote.shape[1], X_train_smote.shape[2]), return_sequences=True))\n",
    "model.add(Dropout(0.2))\n",
    "model.add(LSTM(64, return_sequences=False))\n",
    "model.add(Dropout(0.2))\n",
    "model.add(Dense(y_train_smote.shape[1], activation='softmax'))  # Output layer for multi-class classification\n",
    "\n",
    "# Compile the model\n",
    "model.compile(loss='categorical_crossentropy', optimizer='adam', metrics=['accuracy'])\n",
    "\n",
    "# Train the model\n",
    "model.fit(X_train_smote, y_train_smote, epochs=20, batch_size=32, validation_split=0.3)\n",
    "\n",
    "# Evaluate the model on the test set\n",
    "test_loss, test_accuracy = model.evaluate(X_test, y_test)\n",
    "print(f\"Test Loss: {test_loss}, Test Accuracy: {test_accuracy}\")"
   ]
  },
  {
   "cell_type": "code",
   "execution_count": 8,
   "metadata": {},
   "outputs": [],
   "source": [
    "import pickle\n",
    "pickle.dump(model, open('../model/lstm_model.pkl', 'wb'))"
   ]
  },
  {
   "cell_type": "code",
   "execution_count": 5,
   "metadata": {},
   "outputs": [
    {
     "name": "stdout",
     "output_type": "stream",
     "text": [
      "36/36 [==============================] - 0s 809us/step\n"
     ]
    },
    {
     "data": {
      "image/png": "[encoded data removed]",
      "text/plain": [
       "<Figure size 640x480 with 2 Axes>"
      ]
     },
     "metadata": {},
     "output_type": "display_data"
    },
    {
     "name": "stdout",
     "output_type": "stream",
     "text": [
      "              precision    recall  f1-score   support\n",
      "\n",
      "           0       0.80      0.86      0.83       667\n",
      "           1       0.09      0.09      0.09        22\n",
      "           2       0.77      0.68      0.73       441\n",
      "\n",
      "    accuracy                           0.77      1130\n",
      "   macro avg       0.55      0.54      0.55      1130\n",
      "weighted avg       0.77      0.77      0.77      1130\n",
      "\n"
     ]
    }
   ],
   "source": [
    "from sklearn.metrics import confusion_matrix, classification_report\n",
    "import numpy as np\n",
    "import seaborn as sns\n",
    "import matplotlib.pyplot as plt\n",
    "\n",
    "# Make predictions on the test set\n",
    "y_pred = model.predict(X_test)\n",
    "y_pred_classes = np.argmax(y_pred, axis=1)\n",
    "y_true = np.argmax(y_test, axis=1)\n",
    "\n",
    "# Generate the confusion matrix\n",
    "cm = confusion_matrix(y_true, y_pred_classes)\n",
    "\n",
    "# Plotting the confusion matrix\n",
    "sns.heatmap(cm, annot=True, fmt='d', cmap='Blues')\n",
    "plt.ylabel('True Label')\n",
    "plt.xlabel('Predicted Label')\n",
    "plt.title('Confusion Matrix')\n",
    "plt.show()\n",
    "\n",
    "# Printing classification report\n",
    "print(classification_report(y_true, y_pred_classes))\n"
   ]
  }
 ],
 "metadata": {
  "kernelspec": {
   "display_name": "tensorflow_cpu",
   "language": "python",
   "name": "python3"
  },
  "language_info": {
   "codemirror_mode": {
    "name": "ipython",
    "version": 3
   },
   "file_extension": ".py",
   "mimetype": "text/x-python",
   "name": "python",
   "nbconvert_exporter": "python",
   "pygments_lexer": "ipython3",
   "version": "3.11.5"
  }
 },
 "nbformat": 4,
 "nbformat_minor": 2
}
