{
 "cells": [
  {
   "cell_type": "code",
   "execution_count": 2,
   "metadata": {},
   "outputs": [
    {
     "name": "stdout",
     "output_type": "stream",
     "text": [
      "Total unique posts collected: 5647\n"
     ]
    }
   ],
   "source": [
    "import praw\n",
    "import pandas as pd\n",
    "\n",
    "# Initialize PRAW with the Reddit application credentials\n",
    "reddit = praw.Reddit(\n",
    "    client_id='fM4YRdzTTBuaPyZOtqs0rA', \n",
    "    client_secret='NfYozi_WCKX613fvapDIJ18vXHlq8w',\n",
    "    user_agent='script:Sentinmental_:v1.0 (reddit_username)')\n",
    "\n",
    "# Define subreddits\n",
    "subreddit_names = ['news', 'worldnews', 'upliftingnews', 'science', 'technology', 'happy', 'MadeMeSmile', 'TrueCrime', 'politics', 'relationships', 'investing' ]\n",
    "\n",
    "# Create a list to store the posts\n",
    "posts_data = []\n",
    "\n",
    "# Fetch posts from each subreddit\n",
    "for subreddit_name in subreddit_names:  # Loop through each subreddit name\n",
    "    subreddit = reddit.subreddit(subreddit_name)  # Access the subreddit\n",
    "    for submission in subreddit.hot(limit=10000):  # Fetch hot posts, with the limit\n",
    "        post_data = {\n",
    "            'Title': submission.title,\n",
    "            'Subreddit': subreddit_name,\n",
    "            'Author': str(submission.author),\n",
    "            'Likes': submission.score,\n",
    "            'Comments': submission.num_comments\n",
    "        }\n",
    "        posts_data.append(post_data)\n",
    "\n",
    "# Convert the list of dictionaries into a DataFrame\n",
    "posts_df = pd.DataFrame(posts_data)\n",
    "\n",
    "# Define the path to save the CSV file\n",
    "csv_file_path = r'../data/data_collection/reddit.csv'\n",
    "\n",
    "# Save the DataFrame to a CSV file\n",
    "posts_df.to_csv(csv_file_path, index=False, encoding='utf-8')\n",
    "\n",
    "print(f\"Total unique posts collected: {len(posts_data)}\")"
   ]
  }
 ],
 "metadata": {
  "kernelspec": {
   "display_name": "Python 3",
   "language": "python",
   "name": "python3"
  },
  "language_info": {
   "codemirror_mode": {
    "name": "ipython",
    "version": 3
   },
   "file_extension": ".py",
   "mimetype": "text/x-python",
   "name": "python",
   "nbconvert_exporter": "python",
   "pygments_lexer": "ipython3",
   "version": "3.11.5"
  }
 },
 "nbformat": 4,
 "nbformat_minor": 2
}
